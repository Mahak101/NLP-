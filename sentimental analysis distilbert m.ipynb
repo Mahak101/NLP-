{
 "cells": [
  {
   "cell_type": "code",
   "execution_count": 1,
   "metadata": {},
   "outputs": [],
   "source": [
    "import numpy as np\n",
    "import pandas as pd\n",
    "import torch\n",
    "import transformers\n",
    "from sklearn.model_selection import train_test_split\n",
    "import warnings\n",
    "warnings.filterwarnings('ignore')"
   ]
  },
  {
   "cell_type": "code",
   "execution_count": 2,
   "metadata": {},
   "outputs": [],
   "source": [
    "import torch.nn as nn\n",
    "import torch.nn.functional as F\n",
    "from sklearn.metrics import accuracy_score\n",
    "import torch"
   ]
  },
  {
   "cell_type": "code",
   "execution_count": 3,
   "metadata": {},
   "outputs": [],
   "source": [
    "class Dataset(torch.utils.data.Dataset):\n",
    "    def __init__(self,df,out,max_len=96):\n",
    "        \n",
    "        self.df = df\n",
    "        self.out = out\n",
    "        self.max_len = max_len\n",
    "        self.tokenizer = transformers.DistilBertTokenizer.from_pretrained('distilbert-base-uncased')\n",
    "        \n",
    "    def __getitem__(self,index):\n",
    "        data = {}\n",
    "        row = self.df.iloc[index]\n",
    "        ids,masks,labels = self.get_input_data(row)\n",
    "        data['ids'] = torch.tensor(ids)\n",
    "        data['masks'] = masks\n",
    "        data['labels'] = torch.tensor(self.out.iloc[index].values[0],dtype=torch.float32)\n",
    "        return data\n",
    "    \n",
    "    def __len__(self):\n",
    "        return len(self.df)\n",
    "    \n",
    "    def get_input_data(self,row):\n",
    "        ids = self.tokenizer.encode(row[0],add_special_tokens=True)\n",
    "        pad_len = self.max_len - len(ids)\n",
    "        if pad_len > 0 :\n",
    "            ids += [0]*pad_len\n",
    "        ids = torch.tensor(ids)    \n",
    "        masks = torch.where(ids != 0 , torch.tensor(1),torch.tensor(0))\n",
    "        return ids,masks,self.out.iloc[0].values"
   ]
  },
  {
   "cell_type": "code",
   "execution_count": 4,
   "metadata": {},
   "outputs": [],
   "source": [
    "df= pd.read_csv(\"C:\\\\Users\\\\HP\\\\Downloads\\\\train1.csv\")\n",
    " "
   ]
  },
  {
   "cell_type": "code",
   "execution_count": 5,
   "metadata": {},
   "outputs": [],
   "source": [
    "df1= pd.read_csv(\"C:\\\\Users\\\\HP\\\\Downloads\\\\test1.csv\")"
   ]
  },
  {
   "cell_type": "code",
   "execution_count": 6,
   "metadata": {},
   "outputs": [
    {
     "name": "stdout",
     "output_type": "stream",
     "text": [
      "<class 'pandas.core.frame.DataFrame'>\n",
      "RangeIndex: 649999 entries, 0 to 649998\n",
      "Data columns (total 2 columns):\n",
      " #   Column     Non-Null Count   Dtype \n",
      "---  ------     --------------   ----- \n",
      " 0   rating     649999 non-null  int64 \n",
      " 1   sentences  649999 non-null  object\n",
      "dtypes: int64(1), object(1)\n",
      "memory usage: 9.9+ MB\n",
      "None\n"
     ]
    },
    {
     "data": {
      "text/html": [
       "<div>\n",
       "<style scoped>\n",
       "    .dataframe tbody tr th:only-of-type {\n",
       "        vertical-align: middle;\n",
       "    }\n",
       "\n",
       "    .dataframe tbody tr th {\n",
       "        vertical-align: top;\n",
       "    }\n",
       "\n",
       "    .dataframe thead th {\n",
       "        text-align: right;\n",
       "    }\n",
       "</style>\n",
       "<table border=\"1\" class=\"dataframe\">\n",
       "  <thead>\n",
       "    <tr style=\"text-align: right;\">\n",
       "      <th></th>\n",
       "      <th>rating</th>\n",
       "      <th>sentences</th>\n",
       "    </tr>\n",
       "  </thead>\n",
       "  <tbody>\n",
       "    <tr>\n",
       "      <th>0</th>\n",
       "      <td>2</td>\n",
       "      <td>Unfortunately, the frustration of being Dr. Go...</td>\n",
       "    </tr>\n",
       "    <tr>\n",
       "      <th>1</th>\n",
       "      <td>4</td>\n",
       "      <td>Been going to Dr. Goldberg for over 10 years. ...</td>\n",
       "    </tr>\n",
       "    <tr>\n",
       "      <th>2</th>\n",
       "      <td>4</td>\n",
       "      <td>Got a letter in the mail last week that said D...</td>\n",
       "    </tr>\n",
       "    <tr>\n",
       "      <th>3</th>\n",
       "      <td>1</td>\n",
       "      <td>I don't know what Dr. Goldberg was like before...</td>\n",
       "    </tr>\n",
       "    <tr>\n",
       "      <th>4</th>\n",
       "      <td>5</td>\n",
       "      <td>Top notch doctor in a top notch practice. Can'...</td>\n",
       "    </tr>\n",
       "  </tbody>\n",
       "</table>\n",
       "</div>"
      ],
      "text/plain": [
       "   rating                                          sentences\n",
       "0       2  Unfortunately, the frustration of being Dr. Go...\n",
       "1       4  Been going to Dr. Goldberg for over 10 years. ...\n",
       "2       4  Got a letter in the mail last week that said D...\n",
       "3       1  I don't know what Dr. Goldberg was like before...\n",
       "4       5  Top notch doctor in a top notch practice. Can'..."
      ]
     },
     "metadata": {},
     "output_type": "display_data"
    }
   ],
   "source": [
    "print(df.info())\n",
    "display(df.head())"
   ]
  },
  {
   "cell_type": "code",
   "execution_count": 7,
   "metadata": {},
   "outputs": [
    {
     "name": "stdout",
     "output_type": "stream",
     "text": [
      "<class 'pandas.core.frame.DataFrame'>\n",
      "RangeIndex: 49999 entries, 0 to 49998\n",
      "Data columns (total 2 columns):\n",
      " #   Column     Non-Null Count  Dtype \n",
      "---  ------     --------------  ----- \n",
      " 0   rating     49999 non-null  int64 \n",
      " 1   sentences  49999 non-null  object\n",
      "dtypes: int64(1), object(1)\n",
      "memory usage: 781.4+ KB\n",
      "None\n"
     ]
    },
    {
     "data": {
      "text/html": [
       "<div>\n",
       "<style scoped>\n",
       "    .dataframe tbody tr th:only-of-type {\n",
       "        vertical-align: middle;\n",
       "    }\n",
       "\n",
       "    .dataframe tbody tr th {\n",
       "        vertical-align: top;\n",
       "    }\n",
       "\n",
       "    .dataframe thead th {\n",
       "        text-align: right;\n",
       "    }\n",
       "</style>\n",
       "<table border=\"1\" class=\"dataframe\">\n",
       "  <thead>\n",
       "    <tr style=\"text-align: right;\">\n",
       "      <th></th>\n",
       "      <th>rating</th>\n",
       "      <th>sentences</th>\n",
       "    </tr>\n",
       "  </thead>\n",
       "  <tbody>\n",
       "    <tr>\n",
       "      <th>0</th>\n",
       "      <td>1</td>\n",
       "      <td>Don't waste your time.  We had two different p...</td>\n",
       "    </tr>\n",
       "    <tr>\n",
       "      <th>1</th>\n",
       "      <td>1</td>\n",
       "      <td>All I can say is the worst! We were the only 2...</td>\n",
       "    </tr>\n",
       "    <tr>\n",
       "      <th>2</th>\n",
       "      <td>1</td>\n",
       "      <td>I have been to this restaurant twice and was d...</td>\n",
       "    </tr>\n",
       "    <tr>\n",
       "      <th>3</th>\n",
       "      <td>1</td>\n",
       "      <td>Food was NOT GOOD at all! My husband &amp; I ate h...</td>\n",
       "    </tr>\n",
       "    <tr>\n",
       "      <th>4</th>\n",
       "      <td>3</td>\n",
       "      <td>This is a tiny Starbucks and it locations like...</td>\n",
       "    </tr>\n",
       "  </tbody>\n",
       "</table>\n",
       "</div>"
      ],
      "text/plain": [
       "   rating                                          sentences\n",
       "0       1  Don't waste your time.  We had two different p...\n",
       "1       1  All I can say is the worst! We were the only 2...\n",
       "2       1  I have been to this restaurant twice and was d...\n",
       "3       1  Food was NOT GOOD at all! My husband & I ate h...\n",
       "4       3  This is a tiny Starbucks and it locations like..."
      ]
     },
     "metadata": {},
     "output_type": "display_data"
    }
   ],
   "source": [
    "print(df1.info())\n",
    "display(df1.head())"
   ]
  },
  {
   "cell_type": "code",
   "execution_count": 8,
   "metadata": {},
   "outputs": [
    {
     "data": {
      "image/png": "[encoded data removed]",
      "text/plain": [
       "<Figure size 432x288 with 1 Axes>"
      ]
     },
     "metadata": {
      "needs_background": "light"
     },
     "output_type": "display_data"
    }
   ],
   "source": [
    "import seaborn as sns\n",
    "import pandas as pd\n",
    "import numpy as np\n",
    "import matplotlib.pyplot as plt\n",
    "import os\n",
    "\n",
    "sns.countplot(df['rating']);\n",
    "plt.title('Labels distribution');"
   ]
  },
  {
   "cell_type": "code",
   "execution_count": 9,
   "metadata": {},
   "outputs": [
    {
     "data": {
      "image/png": "[encoded data removed]",
      "text/plain": [
       "<Figure size 432x288 with 1 Axes>"
      ]
     },
     "metadata": {
      "needs_background": "light"
     },
     "output_type": "display_data"
    }
   ],
   "source": [
    "sns.countplot(df1['rating']);\n",
    "plt.title('Labels distribution');"
   ]
  },
  {
   "cell_type": "code",
   "execution_count": 10,
   "metadata": {},
   "outputs": [
    {
     "data": {
      "image/png": "[encoded data removed]",
      "text/plain": [
       "<Figure size 432x288 with 1 Axes>"
      ]
     },
     "metadata": {
      "needs_background": "light"
     },
     "output_type": "display_data"
    }
   ],
   "source": [
    "df['len'] = df['sentences'].apply(lambda x: len(x.split()))\n",
    "sns.distplot(df['len']);"
   ]
  },
  {
   "cell_type": "code",
   "execution_count": 11,
   "metadata": {},
   "outputs": [
    {
     "data": {
      "image/png": "[encoded data removed]",
      "text/plain": [
       "<Figure size 432x288 with 1 Axes>"
      ]
     },
     "metadata": {
      "needs_background": "light"
     },
     "output_type": "display_data"
    }
   ],
   "source": [
    "df1['len'] = df1['sentences'].apply(lambda x: len(x.split()))\n",
    "sns.distplot(df1['len']);"
   ]
  },
  {
   "cell_type": "code",
   "execution_count": 12,
   "metadata": {},
   "outputs": [
    {
     "name": "stdout",
     "output_type": "stream",
     "text": [
      "Negative mean length: 151.47\n",
      "Positive mean length: 152.02\n",
      "Mean Difference: -0.55\n"
     ]
    },
    {
     "data": {
      "image/png": "[encoded data removed]",
      "text/plain": [
       "<Figure size 360x360 with 1 Axes>"
      ]
     },
     "metadata": {
      "needs_background": "light"
     },
     "output_type": "display_data"
    }
   ],
   "source": [
    "neg_mean_len = df.groupby('rating')['len'].mean().values[0]\n",
    "pos_mean_len = df.groupby('rating')['len'].mean().values[1]\n",
    "\n",
    "print(f\"Negative mean length: {neg_mean_len:.2f}\")\n",
    "print(f\"Positive mean length: {pos_mean_len:.2f}\")\n",
    "print(f\"Mean Difference: {neg_mean_len-pos_mean_len:.2f}\")\n",
    "ax = sns.catplot(x='rating', y='len', data=df, kind='box')"
   ]
  },
  {
   "cell_type": "code",
   "execution_count": 13,
   "metadata": {},
   "outputs": [
    {
     "name": "stdout",
     "output_type": "stream",
     "text": [
      "Negative mean length: 150.83\n",
      "Positive mean length: 152.03\n",
      "Mean Difference: -1.19\n"
     ]
    },
    {
     "data": {
      "image/png": "[encoded data removed]",
      "text/plain": [
       "<Figure size 360x360 with 1 Axes>"
      ]
     },
     "metadata": {
      "needs_background": "light"
     },
     "output_type": "display_data"
    }
   ],
   "source": [
    "neg_mean_len = df1.groupby('rating')['len'].mean().values[0]\n",
    "pos_mean_len = df1.groupby('rating')['len'].mean().values[1]\n",
    "\n",
    "print(f\"Negative mean length: {neg_mean_len:.2f}\")\n",
    "print(f\"Positive mean length: {pos_mean_len:.2f}\")\n",
    "print(f\"Mean Difference: {neg_mean_len-pos_mean_len:.2f}\")\n",
    "ax = sns.catplot(x='rating', y='len', data=df1, kind='box')"
   ]
  },
  {
   "cell_type": "code",
   "execution_count": 14,
   "metadata": {},
   "outputs": [],
   "source": [
    "class Dataset(torch.utils.data.Dataset):\n",
    "    def __init__(self,df,out,max_len=96):\n",
    "        \n",
    "        self.df = df\n",
    "        self.out = out\n",
    "        self.max_len = max_len\n",
    "        self.tokenizer = transformers.DistilBertTokenizer.from_pretrained('distilbert-base-uncased')\n",
    "        \n",
    "    def __getitem__(self,index):\n",
    "        data = {}\n",
    "        row = self.df.iloc[index]\n",
    "        ids,masks,labels = self.get_input_data(row)\n",
    "        data['ids'] = torch.tensor(ids)\n",
    "        data['masks'] = masks\n",
    "        data['labels'] = torch.tensor(self.out.iloc[index].values[0],dtype=torch.float32)\n",
    "        return data\n",
    "    \n",
    "    def __len__(self):\n",
    "        return len(self.df)\n",
    "    \n",
    "    def get_input_data(self,row):\n",
    "        ids = self.tokenizer.encode(row[0],add_special_tokens=True)\n",
    "        pad_len = self.max_len - len(ids)\n",
    "        if pad_len > 0 :\n",
    "            ids += [0]*pad_len\n",
    "        ids = torch.tensor(ids)    \n",
    "        masks = torch.where(ids != 0 , torch.tensor(1),torch.tensor(0))\n",
    "        return ids,masks,self.out.iloc[0].values"
   ]
  },
  {
   "cell_type": "code",
   "execution_count": 15,
   "metadata": {},
   "outputs": [],
   "source": [
    "def binary_acc(y_pred, y_test):\n",
    "    y_pred_tag = torch.round(torch.sigmoid(y_pred))\n",
    "\n",
    "    correct_results_sum = (y_pred_tag == y_test).sum().float()\n",
    "    acc = correct_results_sum/y_test.shape[0]\n",
    "    acc = torch.round(acc * 100)\n",
    "    \n",
    "    return acc.item()"
   ]
  },
  {
   "cell_type": "code",
   "execution_count": 16,
   "metadata": {},
   "outputs": [],
   "source": [
    "class Model(nn.Module):\n",
    "    def __init__(self):\n",
    "        super(Model,self).__init__()\n",
    "        config = transformers.DistilBertConfig.from_pretrained('distilbert-base-uncased')\n",
    "        self.distilBert = transformers.DistilBertModel.from_pretrained('distilbert-base-uncased',config=config)\n",
    "        self.fc0 = nn.Linear(768,512)\n",
    "        self.d0 = nn.Dropout(0.5)\n",
    "        self.fc1 = nn.Linear(512,256)\n",
    "        self.d1 = nn.Dropout(0.5)\n",
    "        self.fc2 = nn.Linear(256,1)\n",
    "        nn.init.normal_(self.fc0.weight,std= 0.1)\n",
    "        nn.init.normal_(self.fc0.bias ,0.)\n",
    "        nn.init.normal_(self.fc1.weight,std =0.1)\n",
    "        nn.init.normal_(self.fc1.bias, 0.)\n",
    "        nn.init.normal_(self.fc2.weight,std=0.1)\n",
    "        nn.init.normal_(self.fc2.bias , 0.)\n",
    "    def forward(self,input_ids,attention_mask):\n",
    "        hid= self.distilBert(input_ids,attention_mask = attention_mask)\n",
    "        hid= hid[0][:,0]\n",
    "        x = self.fc0(hid)\n",
    "        x = F.relu(x)\n",
    "        x = self.d0(x)\n",
    "        x = self.fc1(x)\n",
    "        x = F.relu(x)\n",
    "        x = self.d1(x)\n",
    "        return self.fc2(x)"
   ]
  },
  {
   "cell_type": "code",
   "execution_count": 17,
   "metadata": {},
   "outputs": [],
   "source": [
    "def get_iterator(data, batch_size=32, max_length=30, shuffle=True, num_workers=4, pin_memory=True):\n",
    "    cap, vocab = data\n",
    "    return torch.utils.data.DataLoader(\n",
    "        cap,\n",
    "        batch_size=batch_size, shuffle=shuffle,\n",
    "        collate_fn=create_batches(vocab, max_length),\n",
    "        num_workers=num_workers, pin_memory=pin_memory)"
   ]
  },
  {
   "cell_type": "code",
   "execution_count": 18,
   "metadata": {},
   "outputs": [],
   "source": [
    "from torchvision.datasets import MNIST\n",
    "from torch.utils.data import DataLoader\n",
    "from torchvision.transforms import Compose, ToTensor, Normalize\n",
    "\n",
    "import timm\n",
    "\n",
    "import argus\n",
    "from argus.callbacks import MonitorCheckpoint, EarlyStopping, ReduceLROnPlateau\n",
    "\n",
    "\n",
    "def get_data_loaders(batch_size):\n",
    "    data_transform = Compose([ToTensor(), Normalize((0.1307,), (0.3081,))])\n",
    "    train_mnist_dataset = MNIST(download=True, root=\"mnist_data\",\n",
    "                                transform=data_transform, train=True)\n",
    "    val_mnist_dataset = MNIST(download=False, root=\"mnist_data\",\n",
    "                              transform=data_transform, train=False)\n",
    "    train_loader = DataLoader(train_mnist_dataset,\n",
    "                              batch_size=batch_size, shuffle=True)\n",
    "    val_loader = DataLoader(val_mnist_dataset,\n",
    "                            batch_size=batch_size * 2, shuffle=False)\n",
    "    return train_loader, val_loader\n",
    "\n",
    "            \n"
   ]
  },
  {
   "cell_type": "code",
   "execution_count": 19,
   "metadata": {},
   "outputs": [],
   "source": [
    "def test(sentence):\n",
    "    tokenizer = transformers.DistilBertTokenizer.from_pretrained('distilbert-base-uncased')\n",
    "    ids = tokenizer.encode(sentence,add_special_tokens=True)\n",
    "    padded = ids + [0]*(80 - len(ids))\n",
    "    padded = torch.tensor(padded,dtype=torch.int64).unsqueeze(0)\n",
    "    masks = torch.where(padded != 0 , torch.tensor(1), torch.tensor(0)).cuda()\n",
    "    padded = padded.cuda()\n",
    "    model.eval()\n",
    "    output = model(padded,masks)\n",
    "    return torch.round(F.sigmoid(output)).item()"
   ]
  },
  {
   "cell_type": "code",
   "execution_count": 20,
   "metadata": {},
   "outputs": [
    {
     "name": "stdout",
     "output_type": "stream",
     "text": [
      "tensor([[0.1432, 0.0302, 0.3760],\n",
      "        [0.4062, 0.9000, 0.2895],\n",
      "        [0.2297, 0.0225, 0.8774],\n",
      "        [0.5430, 0.4036, 0.9691],\n",
      "        [0.1013, 0.6317, 0.1331]])\n"
     ]
    }
   ],
   "source": [
    "import torch\n",
    "print(torch.rand(5, 3))"
   ]
  },
  {
   "cell_type": "code",
   "execution_count": 21,
   "metadata": {},
   "outputs": [],
   "source": [
    "neg_array = df[df['rating']==0]['len'].values\n",
    "pos_array = df[df['rating']==1]['len'].values\n",
    "mean_diff = neg_mean_len - pos_mean_len\n"
   ]
  },
  {
   "cell_type": "code",
   "execution_count": 22,
   "metadata": {},
   "outputs": [],
   "source": [
    "def permutation_sample(data1, data2):\n",
    "    # Permute the concatenated array: permuted_data\n",
    "    data = np.concatenate((data1,data2))\n",
    "    permuted_data = np.random.permutation(data)\n",
    "\n",
    "    # Split the permuted array into two: perm_sample_1, perm_sample_2\n",
    "    perm_sample_1 = permuted_data[:len(data1)]\n",
    "    perm_sample_2 = permuted_data[len(data1):]\n",
    "\n",
    "    return perm_sample_1, perm_sample_2"
   ]
  },
  {
   "cell_type": "code",
   "execution_count": 23,
   "metadata": {},
   "outputs": [],
   "source": [
    "def draw_perm_reps(data_1, data_2, size=1):\n",
    "\n",
    "    perm_replicates = np.empty(size)\n",
    "\n",
    "    for i in range(size):\n",
    "        # Generate permutation sample\n",
    "        perm_sample_1, perm_sample_2 = permutation_sample(data_1, data_2)\n",
    "\n",
    "        # Compute the test statistic\n",
    "        perm_replicates[i] = np.mean(perm_sample_1) - np.mean(perm_sample_2)\n",
    "\n",
    "    return perm_replicates"
   ]
  },
  {
   "cell_type": "code",
   "execution_count": 24,
   "metadata": {},
   "outputs": [
    {
     "name": "stdout",
     "output_type": "stream",
     "text": [
      "p-value = 0.0\n"
     ]
    }
   ],
   "source": [
    "perm_replicates = draw_perm_reps(neg_array, pos_array,\n",
    "                                 size=10000)\n",
    "\n",
    "# Compute p-value: p\n",
    "p = np.sum(perm_replicates >= mean_diff) / len(perm_replicates)\n",
    "\n",
    "print(f'p-value = {p}')"
   ]
  },
  {
   "cell_type": "code",
   "execution_count": null,
   "metadata": {},
   "outputs": [],
   "source": []
  }
 ],
 "metadata": {
  "kernelspec": {
   "display_name": "Python 3",
   "language": "python",
   "name": "python3"
  },
  "language_info": {
   "codemirror_mode": {
    "name": "ipython",
    "version": 3
   },
   "file_extension": ".py",
   "mimetype": "text/x-python",
   "name": "python",
   "nbconvert_exporter": "python",
   "pygments_lexer": "ipython3",
   "version": "3.8.5"
  }
 },
 "nbformat": 4,
 "nbformat_minor": 4
}
